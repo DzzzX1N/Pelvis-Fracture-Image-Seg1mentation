{
 "cells": [
  {
   "cell_type": "markdown",
   "metadata": {},
   "source": [
    "# U-Net 3D CT Segmentation\n",
    "\n",
    "This notebook implements a 3D U-Net model for segmenting pelvis from CT scans.\n",
    "\n",
    "## Setup and Imports\n",
    "\n",
    "First, let's check our environment and dependencies."
   ]
  },
  {
   "cell_type": "code",
   "execution_count": 2,
   "metadata": {},
   "outputs": [
    {
     "name": "stdout",
     "output_type": "stream",
     "text": [
      "PyTorch version: 2.5.1\n",
      "CUDA available: True\n",
      "CUDA device: NVIDIA GeForce RTX 4070\n",
      "SimpleITK version: 2.4.0\n",
      "NumPy version: 1.26.4\n"
     ]
    }
   ],
   "source": [
    "import os\n",
    "import torch\n",
    "import torch.nn as nn\n",
    "import torch.optim as optim\n",
    "from torch.utils.data import Dataset, DataLoader\n",
    "import SimpleITK as sitk\n",
    "import numpy as np\n",
    "import matplotlib.pyplot as plt\n",
    "from torchvision import transforms\n",
    "\n",
    "# Print versions for reproducibility\n",
    "print(f\"PyTorch version: {torch.__version__}\")\n",
    "print(f\"CUDA available: {torch.cuda.is_available()}\")\n",
    "if torch.cuda.is_available():\n",
    "    print(f\"CUDA device: {torch.cuda.get_device_name(0)}\")\n",
    "print(f\"SimpleITK version: {sitk.__version__}\")\n",
    "print(f\"NumPy version: {np.__version__}\")"
   ]
  },
  {
   "cell_type": "markdown",
   "metadata": {},
   "source": [
    "## 2. Data Exploration\n",
    "Let's examine our dataset structure and visualize some samples."
   ]
  },
  {
   "cell_type": "code",
   "execution_count": 3,
   "metadata": {},
   "outputs": [
    {
     "name": "stdout",
     "output_type": "stream",
     "text": [
      "Found 100 image files in ../data\\PENGWIN_CT_train_images\n",
      "Found 100 label files in ../data\\PENGWIN_CT_train_labels\n",
      "\n",
      "First 5 image files:\n",
      "- 001.mha\n",
      "- 002.mha\n",
      "- 003.mha\n",
      "- 004.mha\n",
      "- 005.mha\n",
      "\n",
      "Original image dimensions: (401, 512, 512)\n",
      "Image spacing: (0.78125, 0.78125, 0.800000011920929)\n",
      "Value range: [-1023.00, 2775.00] HU\n"
     ]
    }
   ],
   "source": [
    "# Define paths\n",
    "data_dir = '../data'\n",
    "images_path = os.path.join(data_dir, 'PENGWIN_CT_train_images')\n",
    "labels_path = os.path.join(data_dir, 'PENGWIN_CT_train_labels')\n",
    "\n",
    "# List and count files\n",
    "image_files = sorted([f for f in os.listdir(images_path) if f.endswith('.mha')])\n",
    "label_files = sorted([f for f in os.listdir(labels_path) if f.endswith('.mha')])\n",
    "\n",
    "print(f\"Found {len(image_files)} image files in {images_path}\")\n",
    "print(f\"Found {len(label_files)} label files in {labels_path}\")\n",
    "print(\"\\nFirst 5 image files:\")\n",
    "for f in image_files[:5]:\n",
    "    print(f\"- {f}\")\n",
    "\n",
    "# Load one sample to check dimensions\n",
    "sample_image = sitk.ReadImage(os.path.join(images_path, image_files[0]))\n",
    "sample_array = sitk.GetArrayFromImage(sample_image)\n",
    "print(f\"\\nOriginal image dimensions: {sample_array.shape}\")\n",
    "print(f\"Image spacing: {sample_image.GetSpacing()}\")\n",
    "print(f\"Value range: [{sample_array.min():.2f}, {sample_array.max():.2f}] HU\")"
   ]
  },
  {
   "cell_type": "markdown",
   "metadata": {},
   "source": [
    "## 3. Dataset Implementation with Visualization"
   ]
  },
  {
   "cell_type": "code",
   "execution_count": 5,
   "metadata": {},
   "outputs": [],
   "source": [
    "class CTScanDataset(Dataset):\n",
    "    def __init__(self, images_path, labels_path, transform=None, target_shape=(1, 128, 128, 128)):\n",
    "        self.image_paths = sorted([os.path.join(images_path, fname) \n",
    "                                 for fname in os.listdir(images_path) \n",
    "                                 if fname.endswith('.mha')])\n",
    "        self.label_paths = sorted([os.path.join(labels_path, fname) \n",
    "                                 for fname in os.listdir(labels_path) \n",
    "                                 if fname.endswith('.mha')])\n",
    "        \n",
    "        assert len(self.image_paths) == len(self.label_paths)\n",
    "        self.transform = transform\n",
    "        self.target_shape = target_shape\n",
    "\n",
    "    def pad_or_resize_to_shape(self, img, target_shape):\n",
    "        current_shape = img.shape\n",
    "        pad = [(0, max(0, target_shape[i] - current_shape[i])) \n",
    "               for i in range(len(target_shape))]\n",
    "        img = np.pad(img, pad, mode='constant', constant_values=0)\n",
    "        slices = tuple(slice(0, min(current_shape[i], target_shape[i])) \n",
    "                      for i in range(len(target_shape)))\n",
    "        return img[slices]\n",
    "\n",
    "    def __len__(self):\n",
    "        return len(self.image_paths)\n",
    "\n",
    "    def __getitem__(self, idx):\n",
    "        # Load and process image\n",
    "        image = sitk.GetArrayFromImage(sitk.ReadImage(self.image_paths[idx])).astype(np.float32)\n",
    "        label = sitk.GetArrayFromImage(sitk.ReadImage(self.label_paths[idx])).astype(np.float32)\n",
    "        \n",
    "        # Preprocessing\n",
    "        image = np.clip(image, -1000, 1000)\n",
    "        image = (image + 1000) / 2000\n",
    "        label = (label > 0).astype(np.float32)\n",
    "        \n",
    "        # Add channel dimension and adjust shape\n",
    "        image = np.expand_dims(image, axis=0)\n",
    "        label = np.expand_dims(label, axis=0)\n",
    "        \n",
    "        image = self.pad_or_resize_to_shape(image, self.target_shape)\n",
    "        label = self.pad_or_resize_to_shape(label, self.target_shape)\n",
    "        \n",
    "        return torch.tensor(image), torch.tensor(label)"
   ]
  },
  {
   "cell_type": "markdown",
   "metadata": {},
   "source": [
    "## 4. Model Architecture Visualization"
   ]
  },
  {
   "cell_type": "code",
   "execution_count": 6,
   "metadata": {},
   "outputs": [],
   "source": [
    "class UNet3D(nn.Module):\n",
    "    def __init__(self, in_channels, out_channels):\n",
    "        super(UNet3D, self).__init__()\n",
    "        \n",
    "        def conv_block(in_ch, out_ch):\n",
    "            return nn.Sequential(\n",
    "                nn.Conv3d(in_ch, out_ch, kernel_size=3, padding=1),\n",
    "                nn.ReLU(inplace=True),\n",
    "                nn.Conv3d(out_ch, out_ch, kernel_size=3, padding=1),\n",
    "                nn.ReLU(inplace=True)\n",
    "            )\n",
    "        \n",
    "        def up_conv(in_ch, out_ch):\n",
    "            return nn.ConvTranspose3d(in_ch, out_ch, kernel_size=2, stride=2)\n",
    "        \n",
    "        # Encoder\n",
    "        self.encoder1 = conv_block(in_channels, 64)\n",
    "        self.encoder2 = conv_block(64, 128)\n",
    "        self.encoder3 = conv_block(128, 256)\n",
    "        self.encoder4 = conv_block(256, 512)\n",
    "        \n",
    "        self.pool = nn.MaxPool3d(kernel_size=2, stride=2)\n",
    "        \n",
    "        # Bottleneck\n",
    "        self.bottleneck = conv_block(512, 1024)\n",
    "        \n",
    "        # Decoder\n",
    "        self.upconv4 = up_conv(1024, 512)\n",
    "        self.decoder4 = conv_block(1024, 512)\n",
    "        self.upconv3 = up_conv(512, 256)\n",
    "        self.decoder3 = conv_block(512, 256)\n",
    "        self.upconv2 = up_conv(256, 128)\n",
    "        self.decoder2 = conv_block(256, 128)\n",
    "        self.upconv1 = up_conv(128, 64)\n",
    "        self.decoder1 = conv_block(128, 64)\n",
    "        \n",
    "        self.output = nn.Conv3d(64, out_channels, kernel_size=1)\n",
    "    \n",
    "    def forward(self, x):\n",
    "        # Implementation remains the same as in your original code\n",
    "        e1 = self.encoder1(x)\n",
    "        e2 = self.encoder2(self.pool(e1))\n",
    "        e3 = self.encoder3(self.pool(e2))\n",
    "        e4 = self.encoder4(self.pool(e3))\n",
    "        \n",
    "        b = self.bottleneck(self.pool(e4))\n",
    "        \n",
    "        d4 = self.upconv4(b)\n",
    "        d4 = self.decoder4(torch.cat((e4, d4), dim=1))\n",
    "        d3 = self.upconv3(d4)\n",
    "        d3 = self.decoder3(torch.cat((e3, d3), dim=1))\n",
    "        d2 = self.upconv2(d3)\n",
    "        d2 = self.decoder2(torch.cat((e2, d2), dim=1))\n",
    "        d1 = self.upconv1(d2)\n",
    "        d1 = self.decoder1(torch.cat((e1, d1), dim=1))\n",
    "        \n",
    "        return self.output(d1)\n",
    "    "
   ]
  },
  {
   "cell_type": "markdown",
   "metadata": {},
   "source": [
    "show the parameter of the model"
   ]
  },
  {
   "cell_type": "code",
   "execution_count": 28,
   "metadata": {},
   "outputs": [
    {
     "name": "stdout",
     "output_type": "stream",
     "text": [
      "Model Architecture:\n",
      "------------------\n",
      "encoder1.0.weight: [64, 1, 3, 3, 3] (1,728 parameters)\n",
      "encoder1.0.bias: [64] (64 parameters)\n",
      "encoder1.2.weight: [64, 64, 3, 3, 3] (110,592 parameters)\n",
      "encoder1.2.bias: [64] (64 parameters)\n",
      "encoder2.0.weight: [128, 64, 3, 3, 3] (221,184 parameters)\n",
      "encoder2.0.bias: [128] (128 parameters)\n",
      "encoder2.2.weight: [128, 128, 3, 3, 3] (442,368 parameters)\n",
      "encoder2.2.bias: [128] (128 parameters)\n",
      "encoder3.0.weight: [256, 128, 3, 3, 3] (884,736 parameters)\n",
      "encoder3.0.bias: [256] (256 parameters)\n",
      "encoder3.2.weight: [256, 256, 3, 3, 3] (1,769,472 parameters)\n",
      "encoder3.2.bias: [256] (256 parameters)\n",
      "encoder4.0.weight: [512, 256, 3, 3, 3] (3,538,944 parameters)\n",
      "encoder4.0.bias: [512] (512 parameters)\n",
      "encoder4.2.weight: [512, 512, 3, 3, 3] (7,077,888 parameters)\n",
      "encoder4.2.bias: [512] (512 parameters)\n",
      "bottleneck.0.weight: [1024, 512, 3, 3, 3] (14,155,776 parameters)\n",
      "bottleneck.0.bias: [1024] (1,024 parameters)\n",
      "bottleneck.2.weight: [1024, 1024, 3, 3, 3] (28,311,552 parameters)\n",
      "bottleneck.2.bias: [1024] (1,024 parameters)\n",
      "upconv4.weight: [1024, 512, 2, 2, 2] (4,194,304 parameters)\n",
      "upconv4.bias: [512] (512 parameters)\n",
      "decoder4.0.weight: [512, 1024, 3, 3, 3] (14,155,776 parameters)\n",
      "decoder4.0.bias: [512] (512 parameters)\n",
      "decoder4.2.weight: [512, 512, 3, 3, 3] (7,077,888 parameters)\n",
      "decoder4.2.bias: [512] (512 parameters)\n",
      "upconv3.weight: [512, 256, 2, 2, 2] (1,048,576 parameters)\n",
      "upconv3.bias: [256] (256 parameters)\n",
      "decoder3.0.weight: [256, 512, 3, 3, 3] (3,538,944 parameters)\n",
      "decoder3.0.bias: [256] (256 parameters)\n",
      "decoder3.2.weight: [256, 256, 3, 3, 3] (1,769,472 parameters)\n",
      "decoder3.2.bias: [256] (256 parameters)\n",
      "upconv2.weight: [256, 128, 2, 2, 2] (262,144 parameters)\n",
      "upconv2.bias: [128] (128 parameters)\n",
      "decoder2.0.weight: [128, 256, 3, 3, 3] (884,736 parameters)\n",
      "decoder2.0.bias: [128] (128 parameters)\n",
      "decoder2.2.weight: [128, 128, 3, 3, 3] (442,368 parameters)\n",
      "decoder2.2.bias: [128] (128 parameters)\n",
      "upconv1.weight: [128, 64, 2, 2, 2] (65,536 parameters)\n",
      "upconv1.bias: [64] (64 parameters)\n",
      "decoder1.0.weight: [64, 128, 3, 3, 3] (221,184 parameters)\n",
      "decoder1.0.bias: [64] (64 parameters)\n",
      "decoder1.2.weight: [64, 64, 3, 3, 3] (110,592 parameters)\n",
      "decoder1.2.bias: [64] (64 parameters)\n",
      "output.weight: [1, 64, 1, 1, 1] (64 parameters)\n",
      "output.bias: [1] (1 parameters)\n",
      "\n",
      "Total parameters: 90,292,673\n"
     ]
    }
   ],
   "source": [
    "\n",
    "    def print_model_summary(model):\n",
    "        \"\"\"Print model architecture summary\"\"\"\n",
    "        print(\"Model Architecture:\")\n",
    "        print(\"------------------\")\n",
    "        total_params = 0\n",
    "        for name, param in model.named_parameters():\n",
    "            param_count = param.numel()\n",
    "            total_params += param_count\n",
    "            print(f\"{name}: {list(param.shape)} ({param_count:,} parameters)\")\n",
    "        print(f\"\\nTotal parameters: {total_params:,}\")\n",
    "\n",
    "    # Initialize model and print summary\n",
    "    model = UNet3D(in_channels=1, out_channels=1)\n",
    "    print_model_summary(model)"
   ]
  },
  {
   "cell_type": "markdown",
   "metadata": {},
   "source": [
    "## 5. Training Configuration and Progress Tracking"
   ]
  },
  {
   "cell_type": "code",
   "execution_count": 7,
   "metadata": {},
   "outputs": [
    {
     "name": "stdout",
     "output_type": "stream",
     "text": [
      "Using device: cuda\n"
     ]
    }
   ],
   "source": [
    "\n",
    "# Device configuration\n",
    "device = torch.device('cuda' if torch.cuda.is_available() else 'cpu')\n",
    "print(f\"Using device: {device}\")\n",
    "\n",
    "# Paths\n",
    "data_dir = r'..\\data'\n",
    "images_path = os.path.join(data_dir, 'PENGWIN_CT_train_images')\n",
    "labels_path = os.path.join(data_dir, 'PENGWIN_CT_train_labels')\n",
    "\n",
    "# Hyperparameters\n",
    "LEARNING_RATE = 0.001\n",
    "NUM_EPOCHS = 50\n",
    "BATCH_SIZE = 2\n",
    "\n",
    "# Dataset and DataLoader setup\n",
    "train_transform = transforms.Compose([\n",
    "    transforms.Lambda(lambda x: torch.tensor(x, dtype=torch.float32)),\n",
    "    transforms.Normalize((0.5,), (0.5,))\n",
    "])\n",
    "\n",
    "train_dataset = CTScanDataset(images_path, labels_path, transform=train_transform)\n",
    "train_loader = DataLoader(train_dataset, batch_size=BATCH_SIZE, shuffle=True)\n",
    "\n",
    "# Model initialization\n",
    "model = UNet3D(in_channels=1, out_channels=1).to(device)\n",
    "criterion = nn.BCEWithLogitsLoss()\n",
    "optimizer = optim.Adam(model.parameters(), lr=LEARNING_RATE)\n",
    "\n",
    "class TrainingMonitor:\n",
    "    def __init__(self):\n",
    "        self.train_losses = []\n",
    "        self.current_epoch = 0\n",
    "        \n",
    "    def update(self, epoch_loss):\n",
    "        self.train_losses.append(epoch_loss)\n",
    "        self.current_epoch += 1\n",
    "        \n",
    "    def plot_progress(self):\n",
    "        plt.figure(figsize=(10, 5))\n",
    "        plt.plot(self.train_losses, label='Training Loss')\n",
    "        plt.title('Training Progress')\n",
    "        plt.xlabel('Epoch')\n",
    "        plt.ylabel('Loss')\n",
    "        plt.grid(True)\n",
    "        plt.legend()\n",
    "        plt.show()\n",
    "        \n",
    "    def print_stats(self):\n",
    "        print(f\"Current epoch: {self.current_epoch}\")\n",
    "        print(f\"Best loss: {min(self.train_losses):.4f}\")\n",
    "        print(f\"Current loss: {self.train_losses[-1]:.4f}\")\n",
    "\n",
    "# Initialize training monitor\n",
    "monitor = TrainingMonitor()"
   ]
  },
  {
   "cell_type": "markdown",
   "metadata": {},
   "source": [
    "## 5. Training Loop"
   ]
  },
  {
   "cell_type": "code",
   "execution_count": 8,
   "metadata": {},
   "outputs": [
    {
     "name": "stderr",
     "output_type": "stream",
     "text": [
      "Epoch 1/50: 100%|██████████| 50/50 [33:19<00:00, 39.98s/it, loss=0.092]   \n",
      "Epoch 2/50: 100%|██████████| 50/50 [32:56<00:00, 39.52s/it, loss=0.0025]  \n",
      "Epoch 3/50: 100%|██████████| 50/50 [32:57<00:00, 39.54s/it, loss=0.00102] \n",
      "Epoch 4/50: 100%|██████████| 50/50 [32:58<00:00, 39.56s/it, loss=0.000258]\n",
      "Epoch 5/50: 100%|██████████| 50/50 [32:55<00:00, 39.51s/it, loss=0.000305]\n"
     ]
    },
    {
     "data": {
      "image/png": "[encoded data removed]",
      "text/plain": [
       "<Figure size 1000x500 with 1 Axes>"
      ]
     },
     "metadata": {},
     "output_type": "display_data"
    },
    {
     "name": "stdout",
     "output_type": "stream",
     "text": [
      "Current epoch: 5\n",
      "Best loss: 0.0179\n",
      "Current loss: 0.0179\n"
     ]
    },
    {
     "name": "stderr",
     "output_type": "stream",
     "text": [
      "Epoch 6/50: 100%|██████████| 50/50 [32:53<00:00, 39.48s/it, loss=0.000192]\n",
      "Epoch 7/50: 100%|██████████| 50/50 [32:47<00:00, 39.36s/it, loss=0.000119]\n",
      "Epoch 8/50: 100%|██████████| 50/50 [32:47<00:00, 39.35s/it, loss=8.2e-5]  \n",
      "Epoch 9/50: 100%|██████████| 50/50 [32:46<00:00, 39.32s/it, loss=0.000277]\n",
      "Epoch 10/50: 100%|██████████| 50/50 [7:59:29<00:00, 575.38s/it, loss=0.00486]     \n"
     ]
    },
    {
     "data": {
      "image/png": "[encoded data removed]",
      "text/plain": [
       "<Figure size 1000x500 with 1 Axes>"
      ]
     },
     "metadata": {},
     "output_type": "display_data"
    },
    {
     "name": "stdout",
     "output_type": "stream",
     "text": [
      "Current epoch: 10\n",
      "Best loss: 0.0139\n",
      "Current loss: 0.0152\n"
     ]
    },
    {
     "name": "stderr",
     "output_type": "stream",
     "text": [
      "Epoch 11/50:  38%|███▊      | 19/50 [17:38<28:47, 55.72s/it, loss=0.00975] \n"
     ]
    },
    {
     "ename": "KeyboardInterrupt",
     "evalue": "",
     "output_type": "error",
     "traceback": [
      "\u001b[1;31m---------------------------------------------------------------------------\u001b[0m",
      "\u001b[1;31mKeyboardInterrupt\u001b[0m                         Traceback (most recent call last)",
      "Cell \u001b[1;32mIn[8], line 33\u001b[0m\n\u001b[0;32m     30\u001b[0m             monitor\u001b[38;5;241m.\u001b[39mprint_stats()\n\u001b[0;32m     32\u001b[0m \u001b[38;5;66;03m# Start training with monitoring\u001b[39;00m\n\u001b[1;32m---> 33\u001b[0m \u001b[43mtrain_model\u001b[49m\u001b[43m(\u001b[49m\u001b[43mmodel\u001b[49m\u001b[43m,\u001b[49m\u001b[43m \u001b[49m\u001b[43mtrain_loader\u001b[49m\u001b[43m,\u001b[49m\u001b[43m \u001b[49m\u001b[43mcriterion\u001b[49m\u001b[43m,\u001b[49m\u001b[43m \u001b[49m\u001b[43moptimizer\u001b[49m\u001b[43m,\u001b[49m\u001b[43m \u001b[49m\u001b[43mNUM_EPOCHS\u001b[49m\u001b[43m,\u001b[49m\u001b[43m \u001b[49m\u001b[43mdevice\u001b[49m\u001b[43m,\u001b[49m\u001b[43m \u001b[49m\u001b[43mmonitor\u001b[49m\u001b[43m)\u001b[49m\n",
      "Cell \u001b[1;32mIn[8], line 21\u001b[0m, in \u001b[0;36mtrain_model\u001b[1;34m(model, train_loader, criterion, optimizer, num_epochs, device, monitor)\u001b[0m\n\u001b[0;32m     18\u001b[0m     loss\u001b[38;5;241m.\u001b[39mbackward()\n\u001b[0;32m     19\u001b[0m     optimizer\u001b[38;5;241m.\u001b[39mstep()\n\u001b[1;32m---> 21\u001b[0m     running_loss \u001b[38;5;241m+\u001b[39m\u001b[38;5;241m=\u001b[39m \u001b[43mloss\u001b[49m\u001b[38;5;241;43m.\u001b[39;49m\u001b[43mitem\u001b[49m\u001b[43m(\u001b[49m\u001b[43m)\u001b[49m\n\u001b[0;32m     22\u001b[0m     pbar\u001b[38;5;241m.\u001b[39mset_postfix({\u001b[38;5;124m'\u001b[39m\u001b[38;5;124mloss\u001b[39m\u001b[38;5;124m'\u001b[39m: loss\u001b[38;5;241m.\u001b[39mitem()})\n\u001b[0;32m     24\u001b[0m \u001b[38;5;66;03m# Update and display progress\u001b[39;00m\n",
      "\u001b[1;31mKeyboardInterrupt\u001b[0m: "
     ]
    }
   ],
   "source": [
    "# 在训练循环之前，添加保存路径\n",
    "MODEL_SAVE_PATH = 'best_unet_model.pth'  # 保存最佳模型\n",
    "CHECKPOINT_DIR = 'checkpoints'  # 保存检查点的目录\n",
    "\n",
    "# 创建检查点目录\n",
    "if not os.path.exists(CHECKPOINT_DIR):\n",
    "    os.makedirs(CHECKPOINT_DIR)\n",
    "\n",
    "# 修改训练函数\n",
    "def train_model(model, train_loader, criterion, optimizer, num_epochs, device, monitor):\n",
    "    best_loss = float('inf')\n",
    "    \n",
    "    for epoch in range(num_epochs):\n",
    "        model.train()\n",
    "        running_loss = 0.0\n",
    "        \n",
    "        try:  # 添加 try-except 以便能够优雅地处理中断\n",
    "            # Progress bar using tqdm\n",
    "            from tqdm import tqdm\n",
    "            pbar = tqdm(train_loader, desc=f'Epoch {epoch+1}/{num_epochs}')\n",
    "            \n",
    "            for images, masks in pbar:\n",
    "                images = images.float().to(device)\n",
    "                masks = masks.float().to(device)\n",
    "                \n",
    "                outputs = model(images)\n",
    "                loss = criterion(outputs, masks)\n",
    "                \n",
    "                optimizer.zero_grad()\n",
    "                loss.backward()\n",
    "                optimizer.step()\n",
    "                \n",
    "                running_loss += loss.item()\n",
    "                pbar.set_postfix({'loss': loss.item()})\n",
    "            \n",
    "            # 计算平均损失\n",
    "            avg_loss = running_loss / len(train_loader)\n",
    "            monitor.update(avg_loss)\n",
    "            \n",
    "            # 保存检查点\n",
    "            checkpoint_path = os.path.join(CHECKPOINT_DIR, f'model_epoch_{epoch+1}.pth')\n",
    "            torch.save({\n",
    "                'epoch': epoch,\n",
    "                'model_state_dict': model.state_dict(),\n",
    "                'optimizer_state_dict': optimizer.state_dict(),\n",
    "                'loss': avg_loss,\n",
    "            }, checkpoint_path)\n",
    "            \n",
    "            # 如果是最佳模型，单独保存\n",
    "            if avg_loss < best_loss:\n",
    "                best_loss = avg_loss\n",
    "                torch.save({\n",
    "                    'epoch': epoch,\n",
    "                    'model_state_dict': model.state_dict(),\n",
    "                    'optimizer_state_dict': optimizer.state_dict(),\n",
    "                    'loss': best_loss,\n",
    "                }, MODEL_SAVE_PATH)\n",
    "                print(f\"Saved best model with loss: {best_loss:.4f}\")\n",
    "            \n",
    "            if (epoch + 1) % 5 == 0:  # 每5个epoch显示一次进度\n",
    "                monitor.plot_progress()\n",
    "                monitor.print_stats()\n",
    "                \n",
    "        except KeyboardInterrupt:\n",
    "            print(\"\\nTraining interrupted by user\")\n",
    "            print(f\"Saving model at epoch {epoch+1}...\")\n",
    "            # 保存中断时的模型\n",
    "            torch.save({\n",
    "                'epoch': epoch,\n",
    "                'model_state_dict': model.state_dict(),\n",
    "                'optimizer_state_dict': optimizer.state_dict(),\n",
    "                'loss': avg_loss,\n",
    "            }, 'interrupted_model.pth')\n",
    "            print(\"Model saved. You can continue training later.\")\n",
    "            break\n",
    "            \n",
    "    return model\n",
    "\n",
    "# 如果要继续训练，添加这个函数\n",
    "def continue_training(model, optimizer, start_epoch, num_epochs):\n",
    "    checkpoint = torch.load('interrupted_model.pth')\n",
    "    model.load_state_dict(checkpoint['model_state_dict'])\n",
    "    optimizer.load_state_dict(checkpoint['optimizer_state_dict'])\n",
    "    start_epoch = checkpoint['epoch']\n",
    "    \n",
    "    print(f\"Continuing training from epoch {start_epoch+1}\")\n",
    "    train_model(model, train_loader, criterion, optimizer, \n",
    "                num_epochs-start_epoch, device, monitor)\n",
    "\n",
    "# 使用方法：\n",
    "# 1. 正常开始训练\n",
    "train_model(model, train_loader, criterion, optimizer, NUM_EPOCHS, device, monitor)\n",
    "\n",
    "# 2. 如果训练被中断，之后可以继续训练\n",
    "# continue_training(model, optimizer, start_epoch, NUM_EPOCHS)"
   ]
  },
  {
   "cell_type": "markdown",
   "metadata": {},
   "source": [
    "## 6. Visualize Training Results"
   ]
  },
  {
   "cell_type": "code",
   "execution_count": 36,
   "metadata": {},
   "outputs": [
    {
     "data": {
      "image/png": "[encoded data removed]",
      "text/plain": [
       "<Figure size 1000x600 with 1 Axes>"
      ]
     },
     "metadata": {},
     "output_type": "display_data"
    }
   ],
   "source": [
    "def plot_training_history(history):\n",
    "    plt.figure(figsize=(10, 6))\n",
    "    plt.plot(history['train_loss'], label='Training Loss')\n",
    "    plt.title('Training Loss Over Time')\n",
    "    plt.xlabel('Epoch')\n",
    "    plt.ylabel('Loss')\n",
    "    plt.legend()\n",
    "    plt.grid(True)\n",
    "    plt.show()\n",
    "\n",
    "plot_training_history(history)\n"
   ]
  }
 ],
 "metadata": {
  "kernelspec": {
   "display_name": "pelvis_seg",
   "language": "python",
   "name": "python3"
  },
  "language_info": {
   "codemirror_mode": {
    "name": "ipython",
    "version": 3
   },
   "file_extension": ".py",
   "mimetype": "text/x-python",
   "name": "python",
   "nbconvert_exporter": "python",
   "pygments_lexer": "ipython3",
   "version": "3.10.15"
  }
 },
 "nbformat": 4,
 "nbformat_minor": 2
}
